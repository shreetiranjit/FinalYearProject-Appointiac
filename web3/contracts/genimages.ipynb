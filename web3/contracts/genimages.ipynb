{
 "cells": [
  {
   "cell_type": "code",
   "execution_count": 1,
   "metadata": {},
   "outputs": [
    {
     "data": {
      "text/plain": [
       "['C:/Users/Asus/Desktop/shreetireact/web3/pps/pixel_image_1.png',\n",
       " 'C:/Users/Asus/Desktop/shreetireact/web3/pps/pixel_image_2.png',\n",
       " 'C:/Users/Asus/Desktop/shreetireact/web3/pps/pixel_image_3.png',\n",
       " 'C:/Users/Asus/Desktop/shreetireact/web3/pps/pixel_image_4.png',\n",
       " 'C:/Users/Asus/Desktop/shreetireact/web3/pps/pixel_image_5.png']"
      ]
     },
     "execution_count": 1,
     "metadata": {},
     "output_type": "execute_result"
    }
   ],
   "source": [
    "import numpy as np\n",
    "from PIL import Image\n",
    "\n",
    "def generate_pixel_images(num_images, image_size, pixel_size, save_path):\n",
    "    # Create a list to hold the filenames of the saved images\n",
    "    image_filenames = []\n",
    "    \n",
    "    for i in range(num_images):\n",
    "        # Generate an array of random colors\n",
    "        # Each color channel ranges from 0 to 255, and we use uint8 to get whole numbers\n",
    "        pixels = np.random.randint(0, 256, (image_size[0] // pixel_size, image_size[1] // pixel_size, 3), dtype=np.uint8)\n",
    "\n",
    "        # Create an image from the array of pixels\n",
    "        image = Image.fromarray(pixels)\n",
    "\n",
    "        # Resize the image to the desired size, using NEAREST to keep the pixels sharp\n",
    "        image = image.resize(image_size, Image.NEAREST)\n",
    "\n",
    "        # Generate a filename for the image\n",
    "        filename = f\"{save_path}/pixel_image_{i+1}.png\"\n",
    "        image_filenames.append(filename)\n",
    "\n",
    "        # Save the image\n",
    "        image.save(filename)\n",
    "    \n",
    "    return image_filenames\n",
    "\n",
    "# Define the parameters\n",
    "num_images_to_generate = 1000  # Number of images to generate\n",
    "final_image_size = (12, 12)  # Final size of the image\n",
    "pixel_block_size = 4  # Size of each pixel block\n",
    "\n",
    "# Path to save the generated images\n",
    "save_directory = 'C:/Users/Asus/Desktop/shreetireact/web3/pps'\n",
    "\n",
    "# Generate the images\n",
    "generated_image_filenames = generate_pixel_images(num_images_to_generate, final_image_size, pixel_block_size, save_directory)\n",
    "\n",
    "# Return the first few filenames as a sample\n",
    "generated_image_filenames[:5]\n"
   ]
  },
  {
   "cell_type": "code",
   "execution_count": null,
   "metadata": {},
   "outputs": [],
   "source": []
  }
 ],
 "metadata": {
  "kernelspec": {
   "display_name": "Python 3",
   "language": "python",
   "name": "python3"
  },
  "language_info": {
   "codemirror_mode": {
    "name": "ipython",
    "version": 3
   },
   "file_extension": ".py",
   "mimetype": "text/x-python",
   "name": "python",
   "nbconvert_exporter": "python",
   "pygments_lexer": "ipython3",
   "version": "3.11.4"
  }
 },
 "nbformat": 4,
 "nbformat_minor": 2
}
